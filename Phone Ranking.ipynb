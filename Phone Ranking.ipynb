{
 "cells": [
  {
   "cell_type": "markdown",
   "metadata": {},
   "source": [
    "# Scraping mobile phone ratings and other details from [phonesranking](www.phonesranking.com)\n",
    "\n",
    ">Phonesranking.com is a website that collects &amp; gather ratings from Expert review sites (only English sites), aggregate the >scores so visitors can see the overall mobile phone rankings &amp; average ratings. We do not count the users’ ratings, the >scores are taken from Critics, Editors & Publishers of those websites.\n",
    "\n",
    "This website contains ranking for phones of various brands. For every brand there is a specific page and here we will scrap the following details for atmost 50 phones for every brand:\n",
    "* Brand\n",
    "* Name of phone\n",
    "* Rating of phone\n",
    "* Released date\n",
    "* Operating System\n"
   ]
  },
  {
   "cell_type": "code",
   "execution_count": 23,
   "metadata": {},
   "outputs": [],
   "source": [
    "import requests\n",
    "from bs4 import BeautifulSoup\n",
    "response = requests.get(\"http://www.phonesranking.com/\")\n",
    "html_soup = BeautifulSoup(response.text,\"html.parser\")"
   ]
  },
  {
   "cell_type": "code",
   "execution_count": 86,
   "metadata": {},
   "outputs": [],
   "source": [
    "brands = html_soup.find(\"ul\",{\"id\":\"menu-brands\"}).text\n",
    "brands = brands.split(\"\\n\")\n",
    "brands = [item.lower() for item in brands]\n",
    "brands.remove('')\n"
   ]
  },
  {
   "cell_type": "code",
   "execution_count": 104,
   "metadata": {},
   "outputs": [
    {
     "data": {
      "text/plain": [
       "list"
      ]
     },
     "execution_count": 104,
     "metadata": {},
     "output_type": "execute_result"
    }
   ],
   "source": [
    "response2 = requests.get(\"http://www.phonesranking.com/acer/\")"
   ]
  },
  {
   "cell_type": "markdown",
   "metadata": {},
   "source": [
    "# Final code begins from here:\n"
   ]
  },
  {
   "cell_type": "code",
   "execution_count": 198,
   "metadata": {},
   "outputs": [
    {
     "name": "stdout",
     "output_type": "stream",
     "text": [
      "Starting Scraping for next brand..\n",
      "Done!\n"
     ]
    }
   ],
   "source": [
    "from random import randint\n",
    "import time\n",
    "from IPython.core.display import clear_output\n",
    "import requests\n",
    "from bs4 import BeautifulSoup\n",
    "response = requests.get(\"http://www.phonesranking.com/\")\n",
    "html_soup = BeautifulSoup(response.text,\"html.parser\")\n",
    "\n",
    "brands = html_soup.find(\"ul\",{\"id\":\"menu-brands\"}).text\n",
    "brands = brands.split(\"\\n\")\n",
    "brands = [item.lower() for item in brands]\n",
    "brands.remove('')\n",
    "\n",
    "brand = []\n",
    "phone = []\n",
    "rating = []\n",
    "released =[]\n",
    "os=[]\n",
    "for b in brands:\n",
    "    response2 = requests.get(\"http://www.phonesranking.com/{}/\".format(b))\n",
    "    html_soup_brand = BeautifulSoup(response2.text, \"html.parser\")\n",
    "    \n",
    "    phone_  = html_soup_brand.find_all(\"td\", class_=\"column-1\")\n",
    "    rating_ = html_soup_brand.find_all(\"td\", class_=\"column-2\")\n",
    "    released_ = html_soup_brand.find_all(\"td\", class_=\"column-4\")\n",
    "    os_ = html_soup_brand.find_all(\"td\", class_=\"column-5\")\n",
    "    \n",
    "    \n",
    "    \n",
    "    for item in rating_:\n",
    "        value = str(item).strip('<td class=\"column-2\">').strip('%</')\n",
    "        rating.append(value)\n",
    "        brand.append(b)\n",
    "        \n",
    "        \n",
    "    \n",
    "    for i in range (len(phone_)):\n",
    "        item = phone_[i].text\n",
    "        phone.append(item.strip())\n",
    "        \n",
    "        \n",
    "    for i in range(len(released_)):\n",
    "        item = released_[i].text\n",
    "        released.append(item)\n",
    "    \n",
    "    for i in range(len(os_)):\n",
    "        item = os_[i].text\n",
    "        os.append(item)\n",
    "    \n",
    "    print(\"Scraping  for brand: {}\".format(b))\n",
    "    time.sleep(randint(5,10))\n",
    "    clear_output(wait=True)\n",
    "    print(\"Starting Scraping for next brand..\")\n",
    "print(\"Done!\")"
   ]
  },
  {
   "cell_type": "code",
   "execution_count": 200,
   "metadata": {},
   "outputs": [],
   "source": [
    "import pandas as pd\n",
    "test_data = pd.DataFrame({'brand':brand,\n",
    "                          'name':phone,\n",
    "                          'rating':rating,\n",
    "                          'released':released,\n",
    "                          'os':os\n",
    "    \n",
    "})\n"
   ]
  },
  {
   "cell_type": "markdown",
   "metadata": {},
   "source": [
    "## test_data:"
   ]
  },
  {
   "cell_type": "code",
   "execution_count": 201,
   "metadata": {},
   "outputs": [
    {
     "data": {
      "text/html": [
       "<div>\n",
       "<style scoped>\n",
       "    .dataframe tbody tr th:only-of-type {\n",
       "        vertical-align: middle;\n",
       "    }\n",
       "\n",
       "    .dataframe tbody tr th {\n",
       "        vertical-align: top;\n",
       "    }\n",
       "\n",
       "    .dataframe thead th {\n",
       "        text-align: right;\n",
       "    }\n",
       "</style>\n",
       "<table border=\"1\" class=\"dataframe\">\n",
       "  <thead>\n",
       "    <tr style=\"text-align: right;\">\n",
       "      <th></th>\n",
       "      <th>brand</th>\n",
       "      <th>name</th>\n",
       "      <th>rating</th>\n",
       "      <th>released</th>\n",
       "      <th>os</th>\n",
       "    </tr>\n",
       "  </thead>\n",
       "  <tbody>\n",
       "    <tr>\n",
       "      <th>0</th>\n",
       "      <td>acer</td>\n",
       "      <td>Acer Liquid Z530</td>\n",
       "      <td>65.00</td>\n",
       "      <td>Oct-2015</td>\n",
       "      <td>Android</td>\n",
       "    </tr>\n",
       "    <tr>\n",
       "      <th>1</th>\n",
       "      <td>acer</td>\n",
       "      <td>Acer Liquid M220</td>\n",
       "      <td>46.50</td>\n",
       "      <td>May-2015</td>\n",
       "      <td>Windows</td>\n",
       "    </tr>\n",
       "    <tr>\n",
       "      <th>2</th>\n",
       "      <td>acer</td>\n",
       "      <td>Acer Liquid Jade Z</td>\n",
       "      <td>65.89</td>\n",
       "      <td>Apr-2015</td>\n",
       "      <td>Android</td>\n",
       "    </tr>\n",
       "    <tr>\n",
       "      <th>3</th>\n",
       "      <td>acer</td>\n",
       "      <td>Acer Liquid Z220</td>\n",
       "      <td>45.00</td>\n",
       "      <td>Apr-2015</td>\n",
       "      <td>Android</td>\n",
       "    </tr>\n",
       "    <tr>\n",
       "      <th>4</th>\n",
       "      <td>acer</td>\n",
       "      <td>Acer Liquid Z410</td>\n",
       "      <td>70.00</td>\n",
       "      <td>Feb-2015</td>\n",
       "      <td>Android</td>\n",
       "    </tr>\n",
       "    <tr>\n",
       "      <th>5</th>\n",
       "      <td>acer</td>\n",
       "      <td>Acer Liquid Jade S55</td>\n",
       "      <td>52.50</td>\n",
       "      <td>Dec-2014</td>\n",
       "      <td>Android</td>\n",
       "    </tr>\n",
       "    <tr>\n",
       "      <th>6</th>\n",
       "      <td>acer</td>\n",
       "      <td>Acer Liquid E700</td>\n",
       "      <td>70.00</td>\n",
       "      <td>Aug-2014</td>\n",
       "      <td>Android</td>\n",
       "    </tr>\n",
       "    <tr>\n",
       "      <th>7</th>\n",
       "      <td>acer</td>\n",
       "      <td>Acer Liquid Jade</td>\n",
       "      <td>65.00</td>\n",
       "      <td>Jul-2014</td>\n",
       "      <td>Android</td>\n",
       "    </tr>\n",
       "    <tr>\n",
       "      <th>8</th>\n",
       "      <td>acer</td>\n",
       "      <td>Acer Liquid E3</td>\n",
       "      <td>60.00</td>\n",
       "      <td>Apr-2014</td>\n",
       "      <td>Android</td>\n",
       "    </tr>\n",
       "    <tr>\n",
       "      <th>9</th>\n",
       "      <td>acer</td>\n",
       "      <td>Acer Liquid Z4</td>\n",
       "      <td>40.00</td>\n",
       "      <td>Apr-2014</td>\n",
       "      <td>Android</td>\n",
       "    </tr>\n",
       "    <tr>\n",
       "      <th>10</th>\n",
       "      <td>acer</td>\n",
       "      <td>Acer Liquid Z5</td>\n",
       "      <td>60.00</td>\n",
       "      <td>Jan-2014</td>\n",
       "      <td>Android</td>\n",
       "    </tr>\n",
       "    <tr>\n",
       "      <th>11</th>\n",
       "      <td>acer</td>\n",
       "      <td>Acer Liquid S2</td>\n",
       "      <td>74.14</td>\n",
       "      <td>Dec-2013</td>\n",
       "      <td>Android</td>\n",
       "    </tr>\n",
       "    <tr>\n",
       "      <th>12</th>\n",
       "      <td>acer</td>\n",
       "      <td>Acer Liquid Z3</td>\n",
       "      <td>63.00</td>\n",
       "      <td>Sep-2013</td>\n",
       "      <td>Android</td>\n",
       "    </tr>\n",
       "    <tr>\n",
       "      <th>13</th>\n",
       "      <td>acer</td>\n",
       "      <td>Acer Liquid S1</td>\n",
       "      <td>55.75</td>\n",
       "      <td>Aug-2013</td>\n",
       "      <td>Android</td>\n",
       "    </tr>\n",
       "    <tr>\n",
       "      <th>14</th>\n",
       "      <td>acer</td>\n",
       "      <td>Acer Liquid S1 Duo</td>\n",
       "      <td>80.00</td>\n",
       "      <td>Aug-2013</td>\n",
       "      <td>Android</td>\n",
       "    </tr>\n",
       "    <tr>\n",
       "      <th>15</th>\n",
       "      <td>acer</td>\n",
       "      <td>Acer Liquid E2</td>\n",
       "      <td>65.00</td>\n",
       "      <td>May-2013</td>\n",
       "      <td>Android</td>\n",
       "    </tr>\n",
       "    <tr>\n",
       "      <th>16</th>\n",
       "      <td>acer</td>\n",
       "      <td>Acer Liquid E2 Duo</td>\n",
       "      <td>60.00</td>\n",
       "      <td>May-2013</td>\n",
       "      <td>Android</td>\n",
       "    </tr>\n",
       "    <tr>\n",
       "      <th>17</th>\n",
       "      <td>acer</td>\n",
       "      <td>Acer Liquid E1</td>\n",
       "      <td>61.67</td>\n",
       "      <td>Mar-2013</td>\n",
       "      <td>Android</td>\n",
       "    </tr>\n",
       "    <tr>\n",
       "      <th>18</th>\n",
       "      <td>acer</td>\n",
       "      <td>Acer Liquid E1 Duo</td>\n",
       "      <td>60.00</td>\n",
       "      <td>Mar-2013</td>\n",
       "      <td>Android</td>\n",
       "    </tr>\n",
       "    <tr>\n",
       "      <th>19</th>\n",
       "      <td>acer</td>\n",
       "      <td>Acer Liquid Z2</td>\n",
       "      <td>66.67</td>\n",
       "      <td>Mar-2013</td>\n",
       "      <td>Android</td>\n",
       "    </tr>\n",
       "    <tr>\n",
       "      <th>20</th>\n",
       "      <td>acer</td>\n",
       "      <td>Acer CloudMobile S500</td>\n",
       "      <td>70.56</td>\n",
       "      <td>Sep-2012</td>\n",
       "      <td>Android</td>\n",
       "    </tr>\n",
       "    <tr>\n",
       "      <th>21</th>\n",
       "      <td>acer</td>\n",
       "      <td>Acer Liquid Gallant</td>\n",
       "      <td>90.00</td>\n",
       "      <td>Sep-2012</td>\n",
       "      <td>Android</td>\n",
       "    </tr>\n",
       "    <tr>\n",
       "      <th>22</th>\n",
       "      <td>acer</td>\n",
       "      <td>Acer Liquid Glow</td>\n",
       "      <td>60.00</td>\n",
       "      <td>Aug-2012</td>\n",
       "      <td>Android</td>\n",
       "    </tr>\n",
       "    <tr>\n",
       "      <th>23</th>\n",
       "      <td>acer</td>\n",
       "      <td>Acer Liquid Mini E310</td>\n",
       "      <td>58.57</td>\n",
       "      <td>Apr-2011</td>\n",
       "      <td>Android</td>\n",
       "    </tr>\n",
       "    <tr>\n",
       "      <th>24</th>\n",
       "      <td>acer</td>\n",
       "      <td>Acer beTouch E210</td>\n",
       "      <td>56.00</td>\n",
       "      <td>Mar-2011</td>\n",
       "      <td>Android</td>\n",
       "    </tr>\n",
       "    <tr>\n",
       "      <th>25</th>\n",
       "      <td>acer</td>\n",
       "      <td>Acer beTouch E140</td>\n",
       "      <td>55.00</td>\n",
       "      <td>Dec-2010</td>\n",
       "      <td>Android</td>\n",
       "    </tr>\n",
       "    <tr>\n",
       "      <th>26</th>\n",
       "      <td>acer</td>\n",
       "      <td>Acer Liquid Metal</td>\n",
       "      <td>73.22</td>\n",
       "      <td>Nov-2010</td>\n",
       "      <td>Android</td>\n",
       "    </tr>\n",
       "    <tr>\n",
       "      <th>27</th>\n",
       "      <td>acer</td>\n",
       "      <td>Acer beTouch E130</td>\n",
       "      <td>70.00</td>\n",
       "      <td>Aug-2010</td>\n",
       "      <td>Android</td>\n",
       "    </tr>\n",
       "    <tr>\n",
       "      <th>28</th>\n",
       "      <td>acer</td>\n",
       "      <td>Acer Liquid E</td>\n",
       "      <td>66.67</td>\n",
       "      <td>Aug-2010</td>\n",
       "      <td>Android</td>\n",
       "    </tr>\n",
       "    <tr>\n",
       "      <th>29</th>\n",
       "      <td>acer</td>\n",
       "      <td>Acer Liquid E Ferrari</td>\n",
       "      <td>50.00</td>\n",
       "      <td>Aug-2010</td>\n",
       "      <td>Android</td>\n",
       "    </tr>\n",
       "    <tr>\n",
       "      <th>30</th>\n",
       "      <td>acer</td>\n",
       "      <td>Acer Stream</td>\n",
       "      <td>71.54</td>\n",
       "      <td>Aug-2010</td>\n",
       "      <td>Android</td>\n",
       "    </tr>\n",
       "    <tr>\n",
       "      <th>31</th>\n",
       "      <td>acer</td>\n",
       "      <td>Acer NeoTouch P400</td>\n",
       "      <td>50.00</td>\n",
       "      <td>May-2010</td>\n",
       "      <td>Windows</td>\n",
       "    </tr>\n",
       "    <tr>\n",
       "      <th>32</th>\n",
       "      <td>acer</td>\n",
       "      <td>Acer beTouch E400</td>\n",
       "      <td>62.00</td>\n",
       "      <td>Apr-2010</td>\n",
       "      <td>Android</td>\n",
       "    </tr>\n",
       "    <tr>\n",
       "      <th>33</th>\n",
       "      <td>acer</td>\n",
       "      <td>Acer beTouch E110</td>\n",
       "      <td>45.00</td>\n",
       "      <td>May-2010</td>\n",
       "      <td>Android</td>\n",
       "    </tr>\n",
       "    <tr>\n",
       "      <th>34</th>\n",
       "      <td>acer</td>\n",
       "      <td>Acer neoTouch P300</td>\n",
       "      <td>40.00</td>\n",
       "      <td>Mar-2010</td>\n",
       "      <td>Windows</td>\n",
       "    </tr>\n",
       "    <tr>\n",
       "      <th>35</th>\n",
       "      <td>alcatel</td>\n",
       "      <td>Alcatel Idol 5s</td>\n",
       "      <td>71.00</td>\n",
       "      <td>Jul-2017</td>\n",
       "      <td>Android</td>\n",
       "    </tr>\n",
       "    <tr>\n",
       "      <th>36</th>\n",
       "      <td>alcatel</td>\n",
       "      <td>Alcatel Idol 4s</td>\n",
       "      <td>75.15</td>\n",
       "      <td>Jul-2016</td>\n",
       "      <td>Android</td>\n",
       "    </tr>\n",
       "    <tr>\n",
       "      <th>37</th>\n",
       "      <td>alcatel</td>\n",
       "      <td>Alcatel Fierce XL</td>\n",
       "      <td>60.00</td>\n",
       "      <td>Feb-2016</td>\n",
       "      <td>Windows</td>\n",
       "    </tr>\n",
       "    <tr>\n",
       "      <th>38</th>\n",
       "      <td>alcatel</td>\n",
       "      <td>Alcatel One Touch Idol 3</td>\n",
       "      <td>77.86</td>\n",
       "      <td>May-2015</td>\n",
       "      <td>Android</td>\n",
       "    </tr>\n",
       "    <tr>\n",
       "      <th>39</th>\n",
       "      <td>alcatel</td>\n",
       "      <td>Alcatel OneTouch Pixi 3</td>\n",
       "      <td>56.00</td>\n",
       "      <td>Mar-2015</td>\n",
       "      <td>Android</td>\n",
       "    </tr>\n",
       "  </tbody>\n",
       "</table>\n",
       "</div>"
      ],
      "text/plain": [
       "      brand                      name rating  released       os\n",
       "0      acer          Acer Liquid Z530  65.00  Oct-2015  Android\n",
       "1      acer          Acer Liquid M220  46.50  May-2015  Windows\n",
       "2      acer        Acer Liquid Jade Z  65.89  Apr-2015  Android\n",
       "3      acer          Acer Liquid Z220  45.00  Apr-2015  Android\n",
       "4      acer          Acer Liquid Z410  70.00  Feb-2015  Android\n",
       "5      acer      Acer Liquid Jade S55  52.50  Dec-2014  Android\n",
       "6      acer          Acer Liquid E700  70.00  Aug-2014  Android\n",
       "7      acer          Acer Liquid Jade  65.00  Jul-2014  Android\n",
       "8      acer            Acer Liquid E3  60.00  Apr-2014  Android\n",
       "9      acer            Acer Liquid Z4  40.00  Apr-2014  Android\n",
       "10     acer            Acer Liquid Z5  60.00  Jan-2014  Android\n",
       "11     acer            Acer Liquid S2  74.14  Dec-2013  Android\n",
       "12     acer            Acer Liquid Z3  63.00  Sep-2013  Android\n",
       "13     acer            Acer Liquid S1  55.75  Aug-2013  Android\n",
       "14     acer        Acer Liquid S1 Duo  80.00  Aug-2013  Android\n",
       "15     acer            Acer Liquid E2  65.00  May-2013  Android\n",
       "16     acer        Acer Liquid E2 Duo  60.00  May-2013  Android\n",
       "17     acer            Acer Liquid E1  61.67  Mar-2013  Android\n",
       "18     acer        Acer Liquid E1 Duo  60.00  Mar-2013  Android\n",
       "19     acer            Acer Liquid Z2  66.67  Mar-2013  Android\n",
       "20     acer     Acer CloudMobile S500  70.56  Sep-2012  Android\n",
       "21     acer       Acer Liquid Gallant  90.00  Sep-2012  Android\n",
       "22     acer          Acer Liquid Glow  60.00  Aug-2012  Android\n",
       "23     acer     Acer Liquid Mini E310  58.57  Apr-2011  Android\n",
       "24     acer         Acer beTouch E210  56.00  Mar-2011  Android\n",
       "25     acer         Acer beTouch E140  55.00  Dec-2010  Android\n",
       "26     acer         Acer Liquid Metal  73.22  Nov-2010  Android\n",
       "27     acer         Acer beTouch E130  70.00  Aug-2010  Android\n",
       "28     acer             Acer Liquid E  66.67  Aug-2010  Android\n",
       "29     acer     Acer Liquid E Ferrari  50.00  Aug-2010  Android\n",
       "30     acer               Acer Stream  71.54  Aug-2010  Android\n",
       "31     acer        Acer NeoTouch P400  50.00  May-2010  Windows\n",
       "32     acer         Acer beTouch E400  62.00  Apr-2010  Android\n",
       "33     acer         Acer beTouch E110  45.00  May-2010  Android\n",
       "34     acer        Acer neoTouch P300  40.00  Mar-2010  Windows\n",
       "35  alcatel           Alcatel Idol 5s  71.00  Jul-2017  Android\n",
       "36  alcatel           Alcatel Idol 4s  75.15  Jul-2016  Android\n",
       "37  alcatel         Alcatel Fierce XL  60.00  Feb-2016  Windows\n",
       "38  alcatel  Alcatel One Touch Idol 3  77.86  May-2015  Android\n",
       "39  alcatel   Alcatel OneTouch Pixi 3  56.00  Mar-2015  Android"
      ]
     },
     "execution_count": 201,
     "metadata": {},
     "output_type": "execute_result"
    }
   ],
   "source": [
    "test_data[:40]"
   ]
  },
  {
   "cell_type": "code",
   "execution_count": 202,
   "metadata": {},
   "outputs": [
    {
     "name": "stdout",
     "output_type": "stream",
     "text": [
      "<class 'pandas.core.frame.DataFrame'>\n",
      "RangeIndex: 1525 entries, 0 to 1524\n",
      "Data columns (total 5 columns):\n",
      "brand       1525 non-null object\n",
      "name        1525 non-null object\n",
      "rating      1525 non-null object\n",
      "released    1525 non-null object\n",
      "os          1525 non-null object\n",
      "dtypes: object(5)\n",
      "memory usage: 59.6+ KB\n"
     ]
    }
   ],
   "source": [
    "test_data.info()"
   ]
  },
  {
   "cell_type": "markdown",
   "metadata": {},
   "source": [
    "All the column values are in object format. `rating` should be in float format"
   ]
  },
  {
   "cell_type": "markdown",
   "metadata": {},
   "source": [
    "### Cleaning data:"
   ]
  },
  {
   "cell_type": "code",
   "execution_count": 203,
   "metadata": {},
   "outputs": [
    {
     "data": {
      "text/plain": [
       "array(['acer', 'alcatel', 'amazon', 'apple', 'archos', 'asus',\n",
       "       'blackberry', 'blu', 'cat', 'celkon', 'gionee', 'google', 'htc',\n",
       "       'huawei', 'karbonn', 'kazam', 'kyocera', 'lava', 'lenovo', 'lg',\n",
       "       'meizu', 'micromax', 'microsoft', 'motorola', 'nokia', 'oneplus',\n",
       "       'oppo', 'panasonic', 'pantech', 'samsung', 'sharp', 'sonim',\n",
       "       'sony', 'spice', 'vertu', 'vivo', 'xiaomi', 'yota', 'zte'],\n",
       "      dtype=object)"
      ]
     },
     "execution_count": 203,
     "metadata": {},
     "output_type": "execute_result"
    }
   ],
   "source": [
    "test_data[\"brand\"].unique()"
   ]
  },
  {
   "cell_type": "code",
   "execution_count": 204,
   "metadata": {},
   "outputs": [
    {
     "data": {
      "text/plain": [
       "array(['65.00', '46.50', '65.89', '45.00', '70.00', '52.50', '60.00',\n",
       "       '40.00', '74.14', '63.00', '55.75', '80.00', '61.67', '66.67',\n",
       "       '70.56', '90.00', '58.57', '56.00', '55.00', '73.22', '50.00',\n",
       "       '71.54', '62.00', '71.00', '75.15', '77.86', '51.50', '72.00',\n",
       "       '75.00', '46.00', '77.50', '70.50', '71.25', '59.00', '68.14',\n",
       "       '76.00', '53.33', '87.00', '30.00', '75.20', '67.50', '63.33',\n",
       "       '57.94', '88.81', '88.31', '88.48', '89.94', '81.11', '85.38',\n",
       "       '84.91', '88.47', '86.03', '89.66', '87.73', '90.96%<br/>\\n',\n",
       "       '87.10', '88.91%<br/>\\n', '78.19', '87.06', '88.21', '58.00',\n",
       "       '73.00', '63.75', '70.53', '74.71', '70.83', '70.33', '76.14',\n",
       "       '65.50', '57.50', '72.75', '73.75', '64.44', '75.63', '76.81',\n",
       "       '64.67', '71.61', '75.56', '77.53', '69.95', '79.82',\n",
       "       '67.58%<br/>\\n', '66.92', '71.11', '69.88', '65.05', '72.48',\n",
       "       '71.60', '65.38', '64.17', '68.50', '55.50', '61.75', '79.47',\n",
       "       '69.29', '68.89', '64.72', '77.46', '69.38', '68.65', '56.67',\n",
       "       '73.60', '74.83', '72.50', '86.67', '76.33', '73.67', '68.33',\n",
       "       '86.50', '77.00', '72.25', '66.50', '62.50', '73.43', '62.75',\n",
       "       '57.25', '0.00', '71.67', '77.67', '78.00', '69.33', '67.00',\n",
       "       '65.25', '88.76', '85.44', '82.86', '83.13', '84.72', '86.81',\n",
       "       '70.04', '75.27', '86.35', '69.31', '69.40', '68.00', '66.00',\n",
       "       '86.83', '51.09', '73.21', '83.57', '80.82', '63.53', '81.00',\n",
       "       '78.69', '81.63', '81.36', '78.33', '63.13', '72.89', '69.00',\n",
       "       '79.57', '61.19', '80.76', '77.23', '91.46', '69.50', '69.97',\n",
       "       '78.41', '69.60', '66.25', '90.50', '73.33', '72.05', '81.33',\n",
       "       '86.25', '72.45', '79.85', '61.88', '77.33', '86.94', '80.68',\n",
       "       '77.30', '70.75', '77.42', '75.71', '79.80', '66.36', '73.48',\n",
       "       '81.43', '76.92', '71.50', '84.96', '68.61', '75.50', '76.17',\n",
       "       '79.12', '80.90', '79.95', '80.60', '74.13', '82.07', '78.75',\n",
       "       '75.42', '89.33', '78.16', '72.14', '84.38', '84.00', '74.00',\n",
       "       '87.50', '89.63', '61.50', '82.65', '91.11', '82.88', '81.24',\n",
       "       '84.41', '79.71', '90.03', '83.15', '79.69', '78.56', '86.56',\n",
       "       '88.00', '83.78', '83.94', '77.96', '82.39', '79.48', '74.93',\n",
       "       '70.88', '80.04', '81.62', '79.00', '81.60', '78.62', '73.71',\n",
       "       '90.76', '79.29', '65.83', '79.42', '83.10', '64.73', '77.14',\n",
       "       '74.68', '72.43', '69.25', '72.23', '68.92', '80.40', '76.25',\n",
       "       '72.22', '81.82', '73.50', '57.00', '46.67', '68.18', '76.67',\n",
       "       '44.00', '68.73', '64.33', '60.67', '76.38', '54.17', '63.57',\n",
       "       '90.38', '78.71', '81.55', '79.90', '83.61', '85.67', '81.28',\n",
       "       '66.80', '82.43', '65.75', '81.40', '80.31', '64.00', '65.82',\n",
       "       '66.40%<br/>\\n', '65.33%<br/>\\n', '86.52', '82.00', '78.20',\n",
       "       '69.64', '89.84', '80.30', '71.71', '87.19', '86.16', '74.17',\n",
       "       '71.88', '78.68', '83.38', '80.33', '67.14', '77.36', '63.17',\n",
       "       '67.86', '53.13', '73.64', '66.18', '72.40', '49.86', '74.67',\n",
       "       '66.43', '78.50', '58.75', '69.75', '77.40', '47.50', '58.33',\n",
       "       '74.80', '62.25', '73.17', '82.50', '69.67', '70.00%<br/>\\n',\n",
       "       '64.55', '65.65', '71.14', '79.20', '76.73', '64.75', '62.78',\n",
       "       '72.85', '72.47', '82.93', '78.27', '81.29', '76.20', '81.69',\n",
       "       '77.82', '76.90', '80.48', '80.52', '84.46', '81.70', '71.33',\n",
       "       '82.70', '78.94', '84.40', '77.29', '82.58', '82.83', '84.33',\n",
       "       '79.97', '82.02', '84.43', '83.82', '85.85', '76.46', '85.46',\n",
       "       '77.38', '69.70', '80.25', '77.80', '83.75', '79.17', '76.93',\n",
       "       '70.55', '74.58', '75.07', '79.23', '83.06', '78.60', '70.94',\n",
       "       '80.83', '79.64', '70.92', '71.40', '79.76', '53.00', '77.26',\n",
       "       '79.62', '76.11', '85.00', '86.10', '71.75', '76.54', '60.11',\n",
       "       '73.14', '67.63', '76.39', '74.33', '81.22', '61.07', '53.08',\n",
       "       '71.08', '76.43%<br/>\\n', '73.97', '58.80', '83.09', '71.89',\n",
       "       '76.60', '50.56', '80.94', '69.43', '81.59', '69.52', '79.16',\n",
       "       '76.07', '77.62', '64.71', '80.57', '66.89', '72.35', '72.13',\n",
       "       '79.63', '51.67', '6.67', '64.10', '77.60', '81.52', '69.86',\n",
       "       '54.58', '64.06', '73.57', '70.87', '69.44', '71.36', '72.83',\n",
       "       '89.28', '89.97', '88.62', '85.50', '90.46', '90.23', '83.00',\n",
       "       '85.26', '75.87', '81.75', '76.83', '77.13', '65.33', '81.58',\n",
       "       '85.29', '58.60', '68.83', '89.05', '70.71', '87.48', '88.89',\n",
       "       '89.46', '86.27', '84.57', '92.91', '87.80', '87.45', '93.45',\n",
       "       '93.03', '67.08', '80.38', '82.63', '73.25', '87.15', '86.41',\n",
       "       '78.17', '86.64', '93.92', '88.24', '81.67', '76.86', '76.28',\n",
       "       '90.35', '33.33', '77.89', '79.50', '85.42', '86.21', '67.25',\n",
       "       '87.18', '70.63', '67.45', '76.85', '68.80', '84.19', '87.09',\n",
       "       '55.56', '80.50', '69.85', '68.20', '66.75', '67.67', '90.14',\n",
       "       '43.33', '60.71', '70.13', '41.00', '81.77', '78.52', '58.64',\n",
       "       '68.75', '75.40', '79.25', '50.63', '91.07', '65.45', '64.69',\n",
       "       '63.89', '55.83', '82.19', '86.13', '61.25', '76.43', '79.38',\n",
       "       '68.40', '87.17', '61.00', '73.82', '82.57', '67.22', '78.59',\n",
       "       '74.63', '81.18', '77.68', '72.31', '62.35', '67.35', '78.42',\n",
       "       '80.47', '84.36', '83.67', '74.86', '74.65', '75.33', '72.29',\n",
       "       '74.40', '86.51', '91.44', '73.93', '70.86', '74.60', '85.05',\n",
       "       '90.56', '81.47', '64.13', '76.04', '72.33', '79.11', '68.57',\n",
       "       '52.86', '68.67', '58.45', '74.89', '75.14', '80.92', '82.73',\n",
       "       '82.75', '71.82', '72.32', '58.50', '66.15', '76.80', '75.75',\n",
       "       '84.50', '79.60', '81.71', '82.36', '76.13', '81.20', '77.20',\n",
       "       '84.73', '76.50', '76.71', '84.60', '80.71', '75.17', '80.14',\n",
       "       '81.25', '73.04%<br/>\\n', '62.64', '51.00', '59.75', '64.08',\n",
       "       '62.86'], dtype=object)"
      ]
     },
     "execution_count": 204,
     "metadata": {},
     "output_type": "execute_result"
    }
   ],
   "source": [
    "test_data[\"rating\"].unique()"
   ]
  },
  {
   "cell_type": "markdown",
   "metadata": {},
   "source": [
    "As we can see above, some of the ratings have come with `%<br/>\\n` appended to them. We need to remove them."
   ]
  },
  {
   "cell_type": "code",
   "execution_count": 205,
   "metadata": {},
   "outputs": [],
   "source": [
    "test_data[\"rating\"] = test_data[\"rating\"].str.replace('%<br/>\\n',\"\")"
   ]
  },
  {
   "cell_type": "markdown",
   "metadata": {},
   "source": [
    "Let's convert `rating` column values to float "
   ]
  },
  {
   "cell_type": "code",
   "execution_count": 206,
   "metadata": {},
   "outputs": [],
   "source": [
    "test_data[\"rating\"] = test_data[\"rating\"].astype(float)"
   ]
  },
  {
   "cell_type": "code",
   "execution_count": 207,
   "metadata": {},
   "outputs": [
    {
     "name": "stdout",
     "output_type": "stream",
     "text": [
      "<class 'pandas.core.frame.DataFrame'>\n",
      "RangeIndex: 1525 entries, 0 to 1524\n",
      "Data columns (total 5 columns):\n",
      "brand       1525 non-null object\n",
      "name        1525 non-null object\n",
      "rating      1525 non-null float64\n",
      "released    1525 non-null object\n",
      "os          1525 non-null object\n",
      "dtypes: float64(1), object(4)\n",
      "memory usage: 59.6+ KB\n"
     ]
    }
   ],
   "source": [
    "test_data.info()"
   ]
  },
  {
   "cell_type": "markdown",
   "metadata": {},
   "source": [
    "So, now `rating` column values are converted to `float` type."
   ]
  },
  {
   "cell_type": "code",
   "execution_count": 208,
   "metadata": {},
   "outputs": [
    {
     "data": {
      "text/plain": [
       "Index(['brand', 'name', 'rating', 'released', 'os'], dtype='object')"
      ]
     },
     "execution_count": 208,
     "metadata": {},
     "output_type": "execute_result"
    }
   ],
   "source": [
    "test_data.columns"
   ]
  },
  {
   "cell_type": "code",
   "execution_count": 209,
   "metadata": {},
   "outputs": [
    {
     "data": {
      "text/plain": [
       "array(['Oct-2015', 'May-2015', 'Apr-2015', 'Feb-2015', 'Dec-2014',\n",
       "       'Aug-2014', 'Jul-2014', 'Apr-2014', 'Jan-2014', 'Dec-2013',\n",
       "       'Sep-2013', 'Aug-2013', 'May-2013', 'Mar-2013', 'Sep-2012',\n",
       "       'Aug-2012', 'Apr-2011', 'Mar-2011', 'Dec-2010', 'Nov-2010',\n",
       "       'Aug-2010', 'May-2010', 'Apr-2010', 'Mar-2010', 'Jul-2017',\n",
       "       'Jul-2016', 'Feb-2016', 'Mar-2015', 'Oct-2014', 'Sep-2014',\n",
       "       'Jun-2014', 'May-2014', 'Mar-2014', 'Feb-2014', 'Oct-2013',\n",
       "       'Jul-2013', 'Apr-2013', 'Jan-2013', 'Oct-2012', 'Apr-2012',\n",
       "       'Feb-2012', 'Dec-2011', 'Nov-2011', 'Oct-2011', 'Jul-2011',\n",
       "       'Jun-2010', 'Feb-2010', 'Oct-2018', 'Nov-2017', 'Sep-2017',\n",
       "       'Sep-2016', 'Mar-2016', 'Sep-2015', 'Jan-2015', 'Nov-2013',\n",
       "       'Aug-2011', 'Jun-2017', 'Aug-2016', 'Jan-2016', 'Dec-2015',\n",
       "       'Aug-2015', 'Dec-2012', 'Jun-2012', 'Jun-2018', 'Dec-2017',\n",
       "       'Apr-2017', 'Nov-2015', 'Jun-2013', 'May-2012', 'Sep-2011',\n",
       "       'Jul-2010', 'Nov-2016', 'Jun-2016', 'Oct-2010', 'Nov-2014',\n",
       "       'Nov-2018', 'Oct-2017', 'Oct-2016', 'Feb-2017', 'May-2016',\n",
       "       'Jul-2015', 'Nov-2012', 'Jul-2012', 'Jan-2012', 'Jun-2011',\n",
       "       'May-2011', 'Feb-2011', 'Jan-2011', 'Jan-2010', 'Sep-2018',\n",
       "       'Aug-2018', 'May-2018', 'Apr-2018', 'Jan-2018', 'Mar-2017',\n",
       "       'Apr-2016', 'Jun-2015', 'Feb-2013', 'Mar-2012', 'Sep-2010',\n",
       "       'Aug-2017', 'Jun-2015\\n', 'May-2017', 'Jan-2017', 'May-2015\\n',\n",
       "       'Mar-2018', 'Feb-2015\\n', 'Jul-2018', 'Feb-2018'], dtype=object)"
      ]
     },
     "execution_count": 209,
     "metadata": {},
     "output_type": "execute_result"
    }
   ],
   "source": [
    "test_data[\"released\"].unique()"
   ]
  },
  {
   "cell_type": "markdown",
   "metadata": {},
   "source": [
    "Some of the values in `released` column values have `\\n` appended. We need to remove them. "
   ]
  },
  {
   "cell_type": "code",
   "execution_count": 210,
   "metadata": {},
   "outputs": [],
   "source": [
    "test_data[\"released\"] = test_data[\"released\"].str.replace(\"\\n\",\"\")"
   ]
  },
  {
   "cell_type": "code",
   "execution_count": 211,
   "metadata": {},
   "outputs": [
    {
     "data": {
      "text/plain": [
       "array(['Oct-2015', 'May-2015', 'Apr-2015', 'Feb-2015', 'Dec-2014',\n",
       "       'Aug-2014', 'Jul-2014', 'Apr-2014', 'Jan-2014', 'Dec-2013',\n",
       "       'Sep-2013', 'Aug-2013', 'May-2013', 'Mar-2013', 'Sep-2012',\n",
       "       'Aug-2012', 'Apr-2011', 'Mar-2011', 'Dec-2010', 'Nov-2010',\n",
       "       'Aug-2010', 'May-2010', 'Apr-2010', 'Mar-2010', 'Jul-2017',\n",
       "       'Jul-2016', 'Feb-2016', 'Mar-2015', 'Oct-2014', 'Sep-2014',\n",
       "       'Jun-2014', 'May-2014', 'Mar-2014', 'Feb-2014', 'Oct-2013',\n",
       "       'Jul-2013', 'Apr-2013', 'Jan-2013', 'Oct-2012', 'Apr-2012',\n",
       "       'Feb-2012', 'Dec-2011', 'Nov-2011', 'Oct-2011', 'Jul-2011',\n",
       "       'Jun-2010', 'Feb-2010', 'Oct-2018', 'Nov-2017', 'Sep-2017',\n",
       "       'Sep-2016', 'Mar-2016', 'Sep-2015', 'Jan-2015', 'Nov-2013',\n",
       "       'Aug-2011', 'Jun-2017', 'Aug-2016', 'Jan-2016', 'Dec-2015',\n",
       "       'Aug-2015', 'Dec-2012', 'Jun-2012', 'Jun-2018', 'Dec-2017',\n",
       "       'Apr-2017', 'Nov-2015', 'Jun-2013', 'May-2012', 'Sep-2011',\n",
       "       'Jul-2010', 'Nov-2016', 'Jun-2016', 'Oct-2010', 'Nov-2014',\n",
       "       'Nov-2018', 'Oct-2017', 'Oct-2016', 'Feb-2017', 'May-2016',\n",
       "       'Jul-2015', 'Nov-2012', 'Jul-2012', 'Jan-2012', 'Jun-2011',\n",
       "       'May-2011', 'Feb-2011', 'Jan-2011', 'Jan-2010', 'Sep-2018',\n",
       "       'Aug-2018', 'May-2018', 'Apr-2018', 'Jan-2018', 'Mar-2017',\n",
       "       'Apr-2016', 'Jun-2015', 'Feb-2013', 'Mar-2012', 'Sep-2010',\n",
       "       'Aug-2017', 'May-2017', 'Jan-2017', 'Mar-2018', 'Jul-2018',\n",
       "       'Feb-2018'], dtype=object)"
      ]
     },
     "execution_count": 211,
     "metadata": {},
     "output_type": "execute_result"
    }
   ],
   "source": [
    "test_data[\"released\"].unique()"
   ]
  },
  {
   "cell_type": "code",
   "execution_count": 218,
   "metadata": {},
   "outputs": [],
   "source": [
    "test_data[\"os\"] = test_data[\"os\"].str.replace(\"\\n\",\"\")"
   ]
  },
  {
   "cell_type": "markdown",
   "metadata": {},
   "source": [
    "### Saving our dataframe to file:"
   ]
  },
  {
   "cell_type": "code",
   "execution_count": 219,
   "metadata": {},
   "outputs": [],
   "source": [
    "test_data.to_csv(\"mobile_rating.csv\")"
   ]
  }
 ],
 "metadata": {
  "kernelspec": {
   "display_name": "Python 3",
   "language": "python",
   "name": "python3"
  },
  "language_info": {
   "codemirror_mode": {
    "name": "ipython",
    "version": 3
   },
   "file_extension": ".py",
   "mimetype": "text/x-python",
   "name": "python",
   "nbconvert_exporter": "python",
   "pygments_lexer": "ipython3",
   "version": "3.7.0"
  }
 },
 "nbformat": 4,
 "nbformat_minor": 2
}
